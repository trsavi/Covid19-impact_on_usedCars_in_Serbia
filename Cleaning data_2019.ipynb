{
 "cells": [
  {
   "cell_type": "code",
   "execution_count": 1,
   "id": "a206de4b",
   "metadata": {},
   "outputs": [],
   "source": [
    "import pandas as pd\n",
    "import seaborn as sns \n",
    "import numpy as np\n"
   ]
  },
  {
   "cell_type": "code",
   "execution_count": 2,
   "id": "920675e5",
   "metadata": {},
   "outputs": [],
   "source": [
    "data = pd.read_csv('automobili2019.csv',header=0, names=['Brend', 'Model', 'Naziv', 'Cena', 'Godiste', 'Kilometraza', 'Gorivo',\n",
    "       'Kubikaza', 'Karoserija', 'Snaga'])"
   ]
  },
  {
   "cell_type": "code",
   "execution_count": 3,
   "id": "0ba83558",
   "metadata": {},
   "outputs": [
    {
     "name": "stdout",
     "output_type": "stream",
     "text": [
      "<class 'pandas.core.frame.DataFrame'>\n",
      "RangeIndex: 17672 entries, 0 to 17671\n",
      "Data columns (total 10 columns):\n",
      " #   Column       Non-Null Count  Dtype \n",
      "---  ------       --------------  ----- \n",
      " 0   Brend        17672 non-null  object\n",
      " 1   Model        17672 non-null  object\n",
      " 2   Naziv        17672 non-null  object\n",
      " 3   Cena         17672 non-null  int64 \n",
      " 4   Godiste      17672 non-null  int64 \n",
      " 5   Kilometraza  17672 non-null  int64 \n",
      " 6   Gorivo       17672 non-null  object\n",
      " 7   Kubikaza     17672 non-null  int64 \n",
      " 8   Karoserija   17672 non-null  object\n",
      " 9   Snaga        17672 non-null  object\n",
      "dtypes: int64(4), object(6)\n",
      "memory usage: 1.3+ MB\n"
     ]
    }
   ],
   "source": [
    "data.info()"
   ]
  },
  {
   "cell_type": "code",
   "execution_count": 4,
   "id": "4d09e5ed",
   "metadata": {},
   "outputs": [],
   "source": [
    "data.drop(columns='Naziv', inplace=True)"
   ]
  },
  {
   "cell_type": "code",
   "execution_count": 5,
   "id": "70584769",
   "metadata": {},
   "outputs": [],
   "source": [
    "def power(item):\n",
    "    try:\n",
    "         return int(item.split(\"(\")[1].replace('KS)',''))\n",
    "    except:\n",
    "        return None\n",
    "        pass\n",
    "                   \n",
    "data['Snaga'] = data['Snaga'].apply(lambda x: power(x))\n"
   ]
  },
  {
   "cell_type": "code",
   "execution_count": 6,
   "id": "249c3372",
   "metadata": {},
   "outputs": [],
   "source": [
    "def convert_vol(volume):\n",
    "    if volume<1000 and volume>=900:\n",
    "        volume=1\n",
    "        return volume\n",
    "    elif volume<=1110 and volume>=1000:\n",
    "        volume=1.1\n",
    "        return volume\n",
    "    elif volume<=1210 and volume>=1120:\n",
    "        volume=1.2\n",
    "        return volume\n",
    "    elif volume<=1310 and volume>=1220:\n",
    "        volume=1.3\n",
    "        return volume\n",
    "    elif volume<=1410 and volume>=1320:\n",
    "        volume=1.4\n",
    "        return volume\n",
    "    elif volume<=1610 and volume>=1520:\n",
    "        volume=1.6\n",
    "        return volume\n",
    "    elif volume<=1710 and volume>=1620:\n",
    "        volume=1.7\n",
    "        return volume\n",
    "    elif volume<=1810 and volume>=1720:\n",
    "        volume=1.8\n",
    "        return volume\n",
    "    elif volume<=1910 and volume>=1820:\n",
    "        volume=1.9\n",
    "        return volume\n",
    "    elif volume<=2010 and volume>=1950:\n",
    "        volume=2\n",
    "        return volume\n",
    "    elif volume<=2210 and volume>=2050:\n",
    "        volume=2.2\n",
    "        return volume\n",
    "    elif volume<=2510 and volume>=2250:\n",
    "        volume=2.5\n",
    "        return volume\n",
    "    elif volume<=3000 and volume>=2550:\n",
    "        volume=3.0\n",
    "        return volume\n",
    "    \n",
    "\n",
    "data['Kubikaza'] = data['Kubikaza'].apply(lambda kub: convert_vol(kub))"
   ]
  },
  {
   "cell_type": "code",
   "execution_count": 7,
   "id": "9f4882ac",
   "metadata": {},
   "outputs": [],
   "source": [
    "data.dropna(inplace=True)"
   ]
  },
  {
   "cell_type": "code",
   "execution_count": 8,
   "id": "dbb2a523",
   "metadata": {},
   "outputs": [],
   "source": [
    "data.drop_duplicates(inplace=True)"
   ]
  },
  {
   "cell_type": "code",
   "execution_count": 18,
   "id": "f3a3d165",
   "metadata": {},
   "outputs": [],
   "source": [
    "data.to_csv('autoPol2019.csv', index=False)"
   ]
  },
  {
   "cell_type": "code",
   "execution_count": null,
   "id": "7b638a93",
   "metadata": {},
   "outputs": [],
   "source": []
  }
 ],
 "metadata": {
  "kernelspec": {
   "display_name": "Python 3",
   "language": "python",
   "name": "python3"
  },
  "language_info": {
   "codemirror_mode": {
    "name": "ipython",
    "version": 3
   },
   "file_extension": ".py",
   "mimetype": "text/x-python",
   "name": "python",
   "nbconvert_exporter": "python",
   "pygments_lexer": "ipython3",
   "version": "3.8.8"
  }
 },
 "nbformat": 4,
 "nbformat_minor": 5
}
